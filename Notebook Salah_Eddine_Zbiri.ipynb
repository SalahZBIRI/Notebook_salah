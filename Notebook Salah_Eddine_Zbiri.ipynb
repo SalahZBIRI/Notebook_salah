{
 "cells": [
  {
   "cell_type": "markdown",
   "id": "b9e73ca9",
   "metadata": {},
   "source": [
    "#  Titre du Carnet DATA SCIENCE\n"
   ]
  },
  {
   "cell_type": "markdown",
   "id": "bda58ff8",
   "metadata": {},
   "source": [
    "# Introduction\n",
    "Bienvenue dans ce carnet Jupyter dédié à la science des données. Dans ce document, nous explorerons divers concepts, langages et outils utilisés dans le domaine passionnant de la science des données.\n"
   ]
  },
  {
   "cell_type": "markdown",
   "id": "c203414b",
   "metadata": {},
   "source": [
    "# Exercice 4 - Langages de la Science des Données\n",
    "- Python\n",
    "- R\n",
    "- SQL\n",
    "- Julia\n",
    "- Scala\n"
   ]
  },
  {
   "cell_type": "markdown",
   "id": "e5811c59",
   "metadata": {},
   "source": [
    "# Exercice 5 - Bibliothèques de Science des Données\n",
    "- Pandas\n",
    "- NumPy\n",
    "- Matplotlib\n",
    "- Seaborn\n",
    "- Scikit-Learn\n"
   ]
  },
  {
   "cell_type": "markdown",
   "id": "d2c8b838",
   "metadata": {},
   "source": [
    "# Exercice 6 - Outils de la Science des Données\n",
    "\n",
    "| Outil                | Description                            |\n",
    "|----------------------|----------------------------------------|\n",
    "| Jupyter Notebooks    | Environnement interactif pour le code   |\n",
    "| RStudio              | IDE pour le langage R                  |\n",
    "| Git                  | Système de gestion de version          |\n",
    "| GitHub               | Plateforme de collaboration Git        |\n",
    "| VSCode               | Éditeur de code avec prise en charge Jupyter |\n",
    "\n"
   ]
  },
  {
   "cell_type": "markdown",
   "id": "cf22da83",
   "metadata": {},
   "source": [
    "# Exercice 7 - Expressions Arithmétiques\n",
    "Voici quelques exemples d'expressions arithmétiques:\n",
    "\n",
    "- \\(100 + 3 \\times 4\\)\n",
    "- \\(\\frac{8}{2} - 1\\)\n",
    "- \\(15^2 + 5\\)\n",
    "\n"
   ]
  },
  {
   "cell_type": "code",
   "execution_count": 1,
   "id": "8186c309",
   "metadata": {},
   "outputs": [
    {
     "name": "stdout",
     "output_type": "stream",
     "text": [
      "Résultat de la multiplication: 21\n",
      "Résultat de l'addition: 10\n"
     ]
    }
   ],
   "source": [
    "# Exercice 8 \n",
    "a = 3\n",
    "b = 7\n",
    "multiplication = a * b\n",
    "addition = a + b\n",
    "print(\"Résultat de la multiplication:\", multiplication)\n",
    "print(\"Résultat de l'addition:\", addition)\n"
   ]
  },
  {
   "cell_type": "code",
   "execution_count": 2,
   "id": "53cb17fa",
   "metadata": {},
   "outputs": [
    {
     "name": "stdout",
     "output_type": "stream",
     "text": [
      "3500  minutes équivalent à 58.333333333333336 heures.\n"
     ]
    }
   ],
   "source": [
    "# Exercice 9\n",
    "minutes = 3500\n",
    "heures = minutes / 60\n",
    "print(minutes ,\" minutes équivalent à\", heures, \"heures.\")\n"
   ]
  },
  {
   "cell_type": "markdown",
   "id": "044616ca",
   "metadata": {},
   "source": [
    "# Exercice 10 - Objectifs\n",
    "Dans ce carnet, nous poursuivons les objectifs suivants:\n",
    "1. Explorer les langages de programmation utilisés en science des données.\n",
    "2. Découvrir les bibliothèques populaires pour l'analyse de données.\n",
    "3. Comprendre l'utilisation d'outils tels que Jupyter Notebooks et RStudio.\n"
   ]
  },
  {
   "cell_type": "markdown",
   "id": "ac0c16e9",
   "metadata": {},
   "source": [
    "# Exercice 11 \n",
    "Cet exercice a été préparé par Salah Eddine Zbiri.\n"
   ]
  },
  {
   "cell_type": "code",
   "execution_count": null,
   "id": "bf17f540",
   "metadata": {},
   "outputs": [],
   "source": []
  }
 ],
 "metadata": {
  "kernelspec": {
   "display_name": "Python 3 (ipykernel)",
   "language": "python",
   "name": "python3"
  },
  "language_info": {
   "codemirror_mode": {
    "name": "ipython",
    "version": 3
   },
   "file_extension": ".py",
   "mimetype": "text/x-python",
   "name": "python",
   "nbconvert_exporter": "python",
   "pygments_lexer": "ipython3",
   "version": "3.11.4"
  }
 },
 "nbformat": 4,
 "nbformat_minor": 5
}
