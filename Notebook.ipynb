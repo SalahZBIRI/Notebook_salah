{
 "cells": [
  {
   "cell_type": "markdown",
   "id": "fbf9c857",
   "metadata": {},
   "source": [
    "Data Science Tools and Ecosystem"
   ]
  },
  {
   "cell_type": "markdown",
   "id": "b6da7ac4",
   "metadata": {},
   "source": [
    "In this notebook, Data Science Tools and Ecosystem are summarized\n"
   ]
  },
  {
   "cell_type": "markdown",
   "id": "de6ca2c2",
   "metadata": {},
   "source": [
    "Some of the popular languages that Data Scientists use are:"
   ]
  },
  {
   "cell_type": "code",
   "execution_count": 1,
   "id": "84719698",
   "metadata": {},
   "outputs": [
    {
     "ename": "SyntaxError",
     "evalue": "invalid syntax (3018236563.py, line 1)",
     "output_type": "error",
     "traceback": [
      "\u001b[1;36m  Cell \u001b[1;32mIn[1], line 1\u001b[1;36m\u001b[0m\n\u001b[1;33m    Some of the popular languages that Data Scientists use are:\u001b[0m\n\u001b[1;37m         ^\u001b[0m\n\u001b[1;31mSyntaxError\u001b[0m\u001b[1;31m:\u001b[0m invalid syntax\n"
     ]
    }
   ],
   "source": [
    "Some of the popular languages that Data Scientists use are:\n",
    "- Python\n",
    "- R\n",
    "- SQL\n",
    "- Julia\n",
    "- Scala"
   ]
  },
  {
   "cell_type": "markdown",
   "id": "fbd133e2",
   "metadata": {},
   "source": [
    "Some of the popular languages that Data Scientists use are:\n",
    "- Python\n",
    "- R\n",
    "- SQL\n",
    "- Julia\n",
    "- Scala\n"
   ]
  },
  {
   "cell_type": "markdown",
   "id": "fd250936",
   "metadata": {},
   "source": [
    "Some of the popular languages that Data Scientists use are:\n",
    "- Python\n",
    "- R\n",
    "- SQL\n",
    "- Julia\n",
    "- Scala\n"
   ]
  },
  {
   "cell_type": "markdown",
   "id": "c208abcb",
   "metadata": {},
   "source": [
    "Some of the commonly used libraries used by Data Scientists include:\n",
    "- Pandas\n",
    "- NumPy\n",
    "- Matplotlib\n",
    "- Seaborn\n",
    "- Scikit-Learn\n"
   ]
  },
  {
   "cell_type": "markdown",
   "id": "d9d832f3",
   "metadata": {},
   "source": [
    "Data Science Tools\n",
    "| Outil                | Description                            |\n",
    "|----------------------|----------------------------------------|\n",
    "| Jupyter Notebooks    | Environnement interactif pour le code   |\n",
    "| RStudio              | IDE pour le langage R                  |\n",
    "| Git                  | Système de gestion de version          |\n",
    "| GitHub               | Plateforme de collaboration Git        |\n",
    "| VSCode               | Éditeur de code avec prise en charge Jupyter |\n"
   ]
  },
  {
   "cell_type": "markdown",
   "id": "bf2fd8be",
   "metadata": {},
   "source": [
    "Below are a few examples of evaluating arithmetic expressions in Python\n",
    "\n",
    "Voici quelques exemples d'expressions arithmétiques:\n",
    "\n",
    "- \\(2 + 3 \\times 4\\)\n",
    "- \\(\\frac{8}{2} - 1\\)\n",
    "- \\(3^2 + 5\\)\n"
   ]
  },
  {
   "cell_type": "code",
   "execution_count": 2,
   "id": "5fe43477",
   "metadata": {},
   "outputs": [
    {
     "name": "stdout",
     "output_type": "stream",
     "text": [
      "Résultat de la multiplication et l addition: 17\n"
     ]
    }
   ],
   "source": [
    "# This a simple arithmetic expression to mutiply then add integers\n",
    "\n",
    "\n",
    "res = (3 * 4) +5\n",
    "print(\"Résultat de la multiplication et l addition:\", res)\n",
    "\n"
   ]
  },
  {
   "cell_type": "code",
   "execution_count": 3,
   "id": "77a22a9e",
   "metadata": {},
   "outputs": [
    {
     "ename": "SyntaxError",
     "evalue": "invalid syntax (1111657252.py, line 2)",
     "output_type": "error",
     "traceback": [
      "\u001b[1;36m  Cell \u001b[1;32mIn[3], line 2\u001b[1;36m\u001b[0m\n\u001b[1;33m    minutes = 200 minutes\u001b[0m\n\u001b[1;37m                  ^\u001b[0m\n\u001b[1;31mSyntaxError\u001b[0m\u001b[1;31m:\u001b[0m invalid syntax\n"
     ]
    }
   ],
   "source": [
    "# This will convert 200 minutes to hours by diving by 60\n",
    "minutes = 200 minutes\n",
    "heures = minutes / 60\n",
    "print(minutes, \"minutes équivalent à\", heures, \"heures.\")\n"
   ]
  },
  {
   "cell_type": "code",
   "execution_count": 4,
   "id": "28b7dab2",
   "metadata": {},
   "outputs": [
    {
     "name": "stdout",
     "output_type": "stream",
     "text": [
      "200 minutes équivalent à 3.3333333333333335 heures.\n"
     ]
    }
   ],
   "source": [
    "# This will convert 200 minutes to hours by diving by 60\n",
    "minutes = 200 \n",
    "heures = minutes / 60\n",
    "print(minutes, \"minutes équivalent à\", heures, \"heures.\")"
   ]
  },
  {
   "cell_type": "markdown",
   "id": "ea6cc8f0",
   "metadata": {},
   "source": [
    "# Objectives:\n",
    "unordered list:\n",
    "1. Explorer les langages de programmation utilisés en science des données.\n",
    "2. Découvrir les bibliothèques populaires pour l'analyse de données.\n",
    "3. Comprendre l'utilisation d'outils tels que Jupyter Notebooks et RStudio.\n"
   ]
  },
  {
   "cell_type": "markdown",
   "id": "0140c866",
   "metadata": {},
   "source": [
    "## Author\n",
    "Zbiri Salah Eddine\n"
   ]
  },
  {
   "cell_type": "code",
   "execution_count": null,
   "id": "f2b8d2e7",
   "metadata": {},
   "outputs": [],
   "source": []
  }
 ],
 "metadata": {
  "kernelspec": {
   "display_name": "Python 3 (ipykernel)",
   "language": "python",
   "name": "python3"
  },
  "language_info": {
   "codemirror_mode": {
    "name": "ipython",
    "version": 3
   },
   "file_extension": ".py",
   "mimetype": "text/x-python",
   "name": "python",
   "nbconvert_exporter": "python",
   "pygments_lexer": "ipython3",
   "version": "3.11.4"
  }
 },
 "nbformat": 4,
 "nbformat_minor": 5
}
